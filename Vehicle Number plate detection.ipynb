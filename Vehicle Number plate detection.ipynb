{
 "cells": [
  {
   "cell_type": "code",
   "execution_count": 9,
   "metadata": {
    "ExecuteTime": {
     "end_time": "2019-12-31T12:30:12.720739Z",
     "start_time": "2019-12-31T12:30:12.668738Z"
    }
   },
   "outputs": [],
   "source": [
    "import cv2\n",
    "img=cv2.imread(\"car.jpg\",-1)\n",
    "img=cv2.resize(img,(620,480))\n",
    "gray=cv2.cvtColor(img,cv2.COLOR_BGR2GRAY)\n",
    "gray=cv2.bilateralFilter(gray,11,17,17)\n",
    "edge=cv2.Canny(gray,30,200)"
   ]
  },
  {
   "cell_type": "code",
   "execution_count": 10,
   "metadata": {
    "ExecuteTime": {
     "end_time": "2019-12-31T12:30:12.812757Z",
     "start_time": "2019-12-31T12:30:12.724737Z"
    }
   },
   "outputs": [],
   "source": [
    "import imutils\n",
    "check = cv2.findContours(edge.copy(), cv2.RETR_TREE, cv2.CHAIN_APPROX_SIMPLE)\n",
    "count=imutils.grab_contours(check)\n",
    "count=sorted(count,key=cv2.contourArea,reverse=True)[:10]\n"
   ]
  },
  {
   "cell_type": "code",
   "execution_count": 11,
   "metadata": {
    "ExecuteTime": {
     "end_time": "2019-12-31T12:30:12.936751Z",
     "start_time": "2019-12-31T12:30:12.812757Z"
    }
   },
   "outputs": [],
   "source": [
    "screen=None\n",
    "for i in count:\n",
    "    per=cv2.arcLength(i,True)\n",
    "    approx = cv2.approxPolyDP(i, 0.018 * per, True)\n",
    "    if(len(approx)==4):\n",
    "        screen=approx\n",
    "        break"
   ]
  },
  {
   "cell_type": "code",
   "execution_count": 12,
   "metadata": {
    "ExecuteTime": {
     "end_time": "2019-12-31T12:30:13.080815Z",
     "start_time": "2019-12-31T12:30:12.940753Z"
    }
   },
   "outputs": [],
   "source": [
    "import numpy as np\n",
    "mask = np.zeros(gray.shape,np.uint8)\n",
    "new_image = cv2.drawContours(mask,[screen],0,255,-1,)\n",
    "new_image = cv2.bitwise_and(img,img,mask=mask)\n"
   ]
  },
  {
   "cell_type": "code",
   "execution_count": 45,
   "metadata": {
    "ExecuteTime": {
     "end_time": "2019-12-31T12:41:56.363799Z",
     "start_time": "2019-12-31T12:41:56.351799Z"
    }
   },
   "outputs": [],
   "source": [
    "(x, y) = np.where(mask == 255)\n",
    "(topx, topy) = (np.min(x), np.min(y))\n",
    "(bottomx, bottomy) = (np.max(x), np.max(y))\n",
    "Cropped = gray[topx:bottomx+1, topy:bottomy+1]\n",
    "Cropped = cv2.bilateralFilter(Cropped, 11, 17, 17) #Blur to reduce noise\n"
   ]
  },
  {
   "cell_type": "code",
   "execution_count": 46,
   "metadata": {
    "ExecuteTime": {
     "end_time": "2019-12-31T12:41:59.489509Z",
     "start_time": "2019-12-31T12:41:57.375868Z"
    }
   },
   "outputs": [],
   "source": [
    "cv2.imshow(\"f\",Cropped)\n",
    "cv2.waitKey(0)\n",
    "cv2.destroyAllWindows()"
   ]
  },
  {
   "cell_type": "code",
   "execution_count": 33,
   "metadata": {
    "ExecuteTime": {
     "end_time": "2019-12-31T12:38:00.332168Z",
     "start_time": "2019-12-31T12:38:00.328170Z"
    }
   },
   "outputs": [],
   "source": [
    "import pytesseract\n",
    "#pytesseract.pytesseract.tesseract_cmd = r'C:\\Program Files\\Tesseract-OCR\\tesseract.exe'\n",
    "\n"
   ]
  },
  {
   "cell_type": "code",
   "execution_count": 47,
   "metadata": {
    "ExecuteTime": {
     "end_time": "2019-12-31T12:42:02.185689Z",
     "start_time": "2019-12-31T12:42:01.909672Z"
    }
   },
   "outputs": [
    {
     "name": "stdout",
     "output_type": "stream",
     "text": [
      "Number of detected vehicle is : FHR 26 BR 9044;\n"
     ]
    }
   ],
   "source": [
    "test = pytesseract.image_to_string(Cropped, config='-l eng --oem 3 --psm 7')\n",
    "print(\"Number of detected vehicle is :\",test)"
   ]
  },
  {
   "cell_type": "code",
   "execution_count": null,
   "metadata": {},
   "outputs": [],
   "source": []
  },
  {
   "cell_type": "code",
   "execution_count": null,
   "metadata": {},
   "outputs": [],
   "source": []
  },
  {
   "cell_type": "code",
   "execution_count": null,
   "metadata": {},
   "outputs": [],
   "source": []
  },
  {
   "cell_type": "code",
   "execution_count": null,
   "metadata": {},
   "outputs": [],
   "source": []
  }
 ],
 "metadata": {
  "hide_input": false,
  "kernelspec": {
   "display_name": "Python 3",
   "language": "python",
   "name": "python3"
  },
  "language_info": {
   "codemirror_mode": {
    "name": "ipython",
    "version": 3
   },
   "file_extension": ".py",
   "mimetype": "text/x-python",
   "name": "python",
   "nbconvert_exporter": "python",
   "pygments_lexer": "ipython3",
   "version": "3.6.5"
  },
  "toc": {
   "base_numbering": 1,
   "nav_menu": {},
   "number_sections": true,
   "sideBar": true,
   "skip_h1_title": false,
   "title_cell": "Table of Contents",
   "title_sidebar": "Contents",
   "toc_cell": false,
   "toc_position": {},
   "toc_section_display": true,
   "toc_window_display": false
  }
 },
 "nbformat": 4,
 "nbformat_minor": 2
}
